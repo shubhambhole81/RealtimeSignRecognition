{
 "cells": [
  {
   "cell_type": "code",
   "execution_count": null,
   "id": "vfhyWeOkrUG5",
   "metadata": {
    "colab": {
     "base_uri": "https://localhost:8080/"
    },
    "id": "vfhyWeOkrUG5",
    "outputId": "29c1dead-529b-497e-8879-bc8f07b2613b"
   },
   "outputs": [],
   "source": [
    "from google.colab import drive\n",
    "drive.mount('/content/drive')"
   ]
  },
  {
   "cell_type": "code",
   "execution_count": null,
   "id": "ab98b01b",
   "metadata": {
    "id": "ab98b01b"
   },
   "outputs": [],
   "source": [
    "import numpy as np\n",
    "import random\n",
    "import os\n",
    "import matplotlib.pyplot as plt\n",
    "import tensorflow as tf\n",
    "import pathlib"
   ]
  },
  {
   "cell_type": "code",
   "execution_count": null,
   "id": "FqUZ7Od7sR_Z",
   "metadata": {
    "id": "FqUZ7Od7sR_Z"
   },
   "outputs": [],
   "source": [
    "!unzip \"/content/drive/MyDrive/sign_data.zip\""
   ]
  },
  {
   "cell_type": "code",
   "execution_count": null,
   "id": "b3ba5a03",
   "metadata": {
    "id": "b3ba5a03"
   },
   "outputs": [],
   "source": [
    "data = pathlib.Path('/content/data')\n"
   ]
  },
  {
   "cell_type": "code",
   "execution_count": null,
   "id": "9bdf680a",
   "metadata": {
    "colab": {
     "base_uri": "https://localhost:8080/"
    },
    "id": "9bdf680a",
    "outputId": "73dbb8a1-8bba-415f-8021-dcf3c406fa5f"
   },
   "outputs": [],
   "source": [
    "image_count = len(list(data.glob('*/*.jpg')))\n",
    "print(image_count)"
   ]
  },
  {
   "cell_type": "code",
   "execution_count": null,
   "id": "83539ecf",
   "metadata": {
    "id": "83539ecf"
   },
   "outputs": [],
   "source": [
    "batch_size = 32\n",
    "img_height = 90\n",
    "img_width = 90"
   ]
  },
  {
   "cell_type": "code",
   "execution_count": null,
   "id": "3078c131",
   "metadata": {
    "colab": {
     "base_uri": "https://localhost:8080/"
    },
    "id": "3078c131",
    "outputId": "326f66c7-9bee-47c3-83e2-56e2ead8c873"
   },
   "outputs": [],
   "source": [
    "train_data = tf.keras.preprocessing.image_dataset_from_directory(\n",
    "  data,\n",
    "  validation_split=0.2,\n",
    "  subset=\"training\",\n",
    "  seed=7,\n",
    "  image_size=(img_height, img_width),\n",
    "  batch_size=batch_size)"
   ]
  },
  {
   "cell_type": "code",
   "execution_count": null,
   "id": "245e9b91",
   "metadata": {
    "colab": {
     "base_uri": "https://localhost:8080/"
    },
    "id": "245e9b91",
    "outputId": "3d709943-3bba-49b6-e957-e23cdd2f916d"
   },
   "outputs": [],
   "source": [
    "val_data = tf.keras.preprocessing.image_dataset_from_directory(\n",
    "  data,\n",
    "  validation_split=0.2,\n",
    "  subset=\"validation\",\n",
    "  seed=7,\n",
    "  image_size=(img_height, img_width),\n",
    "  batch_size=batch_size)"
   ]
  },
  {
   "cell_type": "code",
   "execution_count": null,
   "id": "a7d9d4a0",
   "metadata": {
    "colab": {
     "base_uri": "https://localhost:8080/"
    },
    "id": "a7d9d4a0",
    "outputId": "0f20644b-8fda-4548-f1df-6aeae3edf8ed"
   },
   "outputs": [],
   "source": [
    "class_names = train_data.class_names\n",
    "print(class_names)"
   ]
  },
  {
   "cell_type": "code",
   "execution_count": null,
   "id": "a3181016",
   "metadata": {
    "colab": {
     "base_uri": "https://localhost:8080/",
     "height": 591
    },
    "id": "a3181016",
    "outputId": "f0863c03-8424-4ba1-ae60-b11d53fd7f48"
   },
   "outputs": [],
   "source": [
    "plt.figure(figsize=(10, 10))\n",
    "for images, labels in train_data.take(1):\n",
    "    for i in range(9):\n",
    "        ax = plt.subplot(3, 3, i + 1)\n",
    "        plt.imshow(images[i].numpy().astype(\"uint8\"))\n",
    "        plt.title(class_names[labels[i]])\n",
    "        plt.axis(\"off\")"
   ]
  },
  {
   "cell_type": "code",
   "execution_count": null,
   "id": "102a78cb",
   "metadata": {
    "colab": {
     "base_uri": "https://localhost:8080/"
    },
    "id": "102a78cb",
    "outputId": "20812f18-e550-4e61-87f3-1fb56bbf0fcb"
   },
   "outputs": [],
   "source": [
    "for image_batch, labels_batch in train_data:\n",
    "    print(image_batch.shape)\n",
    "    print(labels_batch.shape)\n",
    "    break"
   ]
  },
  {
   "cell_type": "code",
   "execution_count": null,
   "id": "88b46328",
   "metadata": {
    "id": "88b46328"
   },
   "outputs": [],
   "source": [
    "AUTOTUNE = tf.data.AUTOTUNE\n",
    "\n",
    "train_data = train_data.cache().prefetch(buffer_size=AUTOTUNE)\n",
    "val_data = val_data.cache().prefetch(buffer_size=AUTOTUNE)"
   ]
  },
  {
   "cell_type": "code",
   "execution_count": null,
   "id": "4c2be14c",
   "metadata": {
    "id": "4c2be14c"
   },
   "outputs": [],
   "source": [
    "num_classes = 35\n",
    "model = tf.keras.Sequential([\n",
    "  tf.keras.layers.experimental.preprocessing.Rescaling(1./255),\n",
    "  tf.keras.layers.Conv2D(32, 3, activation='relu'),\n",
    "  tf.keras.layers.MaxPooling2D(),\n",
    "  tf.keras.layers.Conv2D(32, 3, activation='relu'),\n",
    "  tf.keras.layers.MaxPooling2D(),\n",
    "  tf.keras.layers.Conv2D(32, 3, activation='relu'),\n",
    "  tf.keras.layers.MaxPooling2D(),\n",
    "  tf.keras.layers.Flatten(),\n",
    "  tf.keras.layers.Dense(128, activation='relu'),\n",
    "  tf.keras.layers.Dense(num_classes)\n",
    "])"
   ]
  },
  {
   "cell_type": "code",
   "execution_count": null,
   "id": "4e63cce4",
   "metadata": {
    "id": "4e63cce4"
   },
   "outputs": [],
   "source": [
    "model.compile(optimizer='adam',loss=tf.losses.SparseCategoricalCrossentropy(from_logits=True),metrics=['accuracy'])"
   ]
  },
  {
   "cell_type": "code",
   "execution_count": null,
   "id": "ed247df5",
   "metadata": {
    "colab": {
     "base_uri": "https://localhost:8080/"
    },
    "id": "ed247df5",
    "outputId": "60c8347c-767e-41c1-a151-7e4514750ae4"
   },
   "outputs": [],
   "source": [
    "model.fit(train_data,validation_data=val_data,epochs=1)"
   ]
  },
  {
   "cell_type": "code",
   "execution_count": null,
   "id": "62f3d5cf",
   "metadata": {
    "colab": {
     "base_uri": "https://localhost:8080/"
    },
    "id": "62f3d5cf",
    "outputId": "4b26a2a2-c1fb-49b1-8b2a-147456ec42c0"
   },
   "outputs": [],
   "source": [
    "model.summary()"
   ]
  },
  {
   "cell_type": "code",
   "execution_count": null,
   "id": "a8f3d99c",
   "metadata": {
    "id": "a8f3d99c"
   },
   "outputs": [],
   "source": [
    "model.save('Sign_CNN.h5')"
   ]
  },
  {
   "cell_type": "code",
   "execution_count": null,
   "id": "wN5lpntdITA3",
   "metadata": {
    "id": "wN5lpntdITA3"
   },
   "outputs": [],
   "source": [
    "model.load_weights('Sign_CNN.h5')"
   ]
  }
 ],
 "metadata": {
  "accelerator": "GPU",
  "colab": {
   "name": "CNN_Sign_Detection.ipynb",
   "provenance": []
  },
  "kernelspec": {
   "display_name": "Python 3 (ipykernel)",
   "language": "python",
   "name": "python3"
  },
  "language_info": {
   "codemirror_mode": {
    "name": "ipython",
    "version": 3
   },
   "file_extension": ".py",
   "mimetype": "text/x-python",
   "name": "python",
   "nbconvert_exporter": "python",
   "pygments_lexer": "ipython3",
   "version": "3.8.11"
  }
 },
 "nbformat": 4,
 "nbformat_minor": 5
}
